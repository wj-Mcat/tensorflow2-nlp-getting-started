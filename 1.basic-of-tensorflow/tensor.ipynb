{
 "cells": [
  {
   "cell_type": "markdown",
   "metadata": {},
   "source": [
    "# tensorflow tensor基础\n",
    "\n",
    "在tensorflow中声明tensor通常是学习的第一步，也是最重要的一步。只有将基础的张量计算烂熟于心，后面的知识点才会学的更加踏实"
   ]
  },
  {
   "cell_type": "code",
   "execution_count": 3,
   "metadata": {},
   "outputs": [],
   "source": [
    "# 导入tensorflow，并设置别名\n",
    "import tensorflow as tf"
   ]
  },
  {
   "cell_type": "markdown",
   "metadata": {},
   "source": [
    "## 1. 定义张量"
   ]
  },
  {
   "cell_type": "code",
   "execution_count": 13,
   "metadata": {},
   "outputs": [
    {
     "name": "stdout",
     "output_type": "stream",
     "text": [
      "生成随机数：\n",
      "tf.Tensor(0.51074135, shape=(), dtype=float32)\n",
      "常量向量：\n",
      "tf.Tensor([1 2], shape=(2,), dtype=int32)\n"
     ]
    }
   ],
   "source": [
    "# 生成随机数\n",
    "random_tensor = tf.random.uniform(shape=(), seed=123)\n",
    "print(\"生成随机数：\")\n",
    "print(random_tensor)\n",
    "\n",
    "# 定义常量\n",
    "const_tensor = tf.constant([1,2])\n",
    "print('常量向量：')\n",
    "print(const_tensor)"
   ]
  }
 ],
 "metadata": {
  "kernelspec": {
   "display_name": "Python 3",
   "language": "python",
   "name": "python3"
  },
  "language_info": {
   "codemirror_mode": {
    "name": "ipython",
    "version": 3
   },
   "file_extension": ".py",
   "mimetype": "text/x-python",
   "name": "python",
   "nbconvert_exporter": "python",
   "pygments_lexer": "ipython3",
   "version": "3.7.7"
  }
 },
 "nbformat": 4,
 "nbformat_minor": 4
}
