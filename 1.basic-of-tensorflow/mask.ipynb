{
 "cells": [
  {
   "cell_type": "markdown",
   "metadata": {},
   "source": [
    "# Mask & Padding\n",
    "\n",
    "Mask和Padding 在NLP中是一个非常重要的概念，同时也是必不可缺的一部分，熟练掌握Mask&Padding的常规操作对于使用tensorflow而言至关重要。\n",
    "\n",
    "## 概念\n",
    "\n",
    "Mask，顾名思义为掩盖，在处理时间序列数据时，由于每个batch中，文本的实际长度不一致，且需要将所有的数据组装成一个矩阵来标识，比如：\n",
    "\n",
    "```text\n",
    "[   [\"Hello\", \"world\", \"!\"],   \n",
    "    [\"How\", \"are\", \"you\", \"doing\", \"today\"],   \n",
    "    [\"The\", \"weather\", \"will\", \"be\", \"nice\", \"tomorrow\"], \n",
    "]\n",
    "```\n"
   ]
  },
  {
   "cell_type": "code",
   "execution_count": 3,
   "metadata": {},
   "outputs": [
    {
     "name": "stdout",
     "output_type": "stream",
     "text": [
      "[[ 711  632   71    0]\n",
      " [  73    8 3215   55]\n",
      " [  83   91    1  645]]\n",
      "tf.Tensor(\n",
      "[[ True  True  True False False False False False False False]\n",
      " [ True  True  True  True  True False False False False False]\n",
      " [ True  True  True  True  True  True False False False False]], shape=(3, 10), dtype=bool)\n"
     ]
    }
   ],
   "source": [
    "import tensorflow as tf\n",
    "\n",
    "# 1. define the data\n",
    "raw_inputs = [\n",
    "    [711, 632, 71],\n",
    "    [73, 8, 3215, 55, 927],\n",
    "    [83, 91, 1, 645, 1253, 927],\n",
    "]\n",
    "\n",
    "# 2. pad the input with post mode\n",
    "padded_inputs = tf.keras.preprocessing.sequence.pad_sequences(\n",
    "    raw_inputs, padding=\"post\", maxlen=4, truncating=\"post\"\n",
    ")\n",
    "\n",
    "print(padded_inputs)\n",
    "\n",
    "\n",
    "# 3. generate mask data\n",
    "raw_length = [len(raw_inputs[i]) for i in range(len(raw_inputs))]\n",
    "mask = tf.sequence_mask(raw_length, maxlen=10)\n",
    "print(mask)\n"
   ]
  },
  {
   "cell_type": "code",
   "execution_count": null,
   "metadata": {},
   "outputs": [],
   "source": [
    "import tensorflow as tf\n",
    "\n",
    "# 1. define the data\n",
    "raw_inputs = [\n",
    "    [711, 632, 71],\n",
    "    [73, 8, 3215, 55, 927],\n",
    "    [83, 91, 1, 645, 1253, 927],\n",
    "]\n",
    "\n",
    "# 2. pad the input with post mode\n",
    "padded_inputs = tf.keras.preprocessing.sequence.pad_sequences(\n",
    "    raw_inputs, padding=\"post\", maxlen=4, truncating=\"post\"\n",
    ")\n",
    "\n",
    "print(padded_inputs)\n",
    "\n",
    "\n",
    "# 3. generate mask data\n",
    "raw_length = [len(raw_inputs[i]) for i in range(len(raw_inputs))]\n",
    "mask = tf.sequence_mask(raw_length, maxlen=10)\n",
    "print(mask)\n"
   ]
  }
 ],
 "metadata": {
  "kernelspec": {
   "display_name": "Python 3",
   "language": "python",
   "name": "python3"
  },
  "language_info": {
   "codemirror_mode": {
    "name": "ipython",
    "version": 3
   },
   "file_extension": ".py",
   "mimetype": "text/x-python",
   "name": "python",
   "nbconvert_exporter": "python",
   "pygments_lexer": "ipython3",
   "version": "3.7.7"
  }
 },
 "nbformat": 4,
 "nbformat_minor": 4
}
