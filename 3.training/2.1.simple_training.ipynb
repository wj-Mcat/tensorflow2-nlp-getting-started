{
 "cells": [
  {
   "cell_type": "markdown",
   "metadata": {},
   "source": [
    "# 基础训练方法\n",
    "\n",
    "在tf2中默认推荐使用keras的fit方法来训练模型，这个方法能够使用简单的几行代码即可完成模型的训练过程，非常简单，也适合做一些简单模型。如果大家对tf2有一定的了解，需要跑一些常规简单的模型的时候，这个方法非常适合大家。\n",
    "\n",
    "接下来我将给大家介绍如何使用tensorflow内置的方法来训练你的模型。"
   ]
  },
  {
   "cell_type": "markdown",
   "metadata": {},
   "source": [
    "## 数据准备"
   ]
  }
 ],
 "metadata": {
  "kernelspec": {
   "display_name": "Python 3",
   "language": "python",
   "name": "python3"
  },
  "language_info": {
   "codemirror_mode": {
    "name": "ipython",
    "version": 3
   },
   "file_extension": ".py",
   "mimetype": "text/x-python",
   "name": "python",
   "nbconvert_exporter": "python",
   "pygments_lexer": "ipython3",
   "version": "3.8.5"
  }
 },
 "nbformat": 4,
 "nbformat_minor": 4
}
