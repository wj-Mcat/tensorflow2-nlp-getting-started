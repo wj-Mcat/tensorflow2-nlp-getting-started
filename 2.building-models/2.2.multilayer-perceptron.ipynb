{
 "cells": [
  {
   "cell_type": "markdown",
   "metadata": {},
   "source": [
    "# MLP 模型"
   ]
  },
  {
   "cell_type": "markdown",
   "metadata": {},
   "source": [
    "## 1. 数据获取及预处理"
   ]
  },
  {
   "cell_type": "code",
   "execution_count": 1,
   "metadata": {},
   "outputs": [],
   "source": [
    "import tensorflow as tf\n",
    "import numpy as np\n",
    "\n",
    "class MNISTLoader:\n",
    "    def __init__(self):\n",
    "        super().__init__()\n",
    "        mnist = tf.keras.datasets.mnist\n",
    "        (self.train_data, self.train_label), (self.test_data, self.test_label) = mnist.load_data()\n",
    "        \n",
    "        # 归一化至(0~1)之间\n",
    "        self.train_data = np.expand_dims(self.train_data.astype(np.float32) / 255., axis=-1)\n",
    "        self.test_data = np.expand_dims(self.test_data.astype(np.float32) / 255., axis=-1)\n",
    "        \n",
    "        self.trian_label = self.train_label.astype(np.int32)\n",
    "        self.test_label = self.test_label.astype(np.int32)\n",
    "        \n",
    "        self.num_train_data, self.num_test_data = self.train_data.shape[0], self.test_data.shape[0]\n",
    "    \n",
    "    def get_batch(self, batch_size: int, dataset: str = \"train\"):\n",
    "        \"\"\"随机获取训练数据\"\"\"\n",
    "        if dataset == \"train\":\n",
    "            index = np.random.randint(0, self.num_train_data, batch_size)\n",
    "            return self.train_data[index, :], self.train_label[index]\n",
    "        index = np.random.randint(0, self.num_test_data, batch_size)\n",
    "        return self.test_data[index, :], self.test_label[index]"
   ]
  },
  {
   "cell_type": "markdown",
   "metadata": {},
   "source": [
    "## 2. 构建模型"
   ]
  },
  {
   "cell_type": "code",
   "execution_count": 2,
   "metadata": {},
   "outputs": [],
   "source": [
    "class MLP(tf.keras.Model):\n",
    "    def __init__(self):\n",
    "        super().__init__()\n",
    "        self.flatten = tf.keras.layers.Flatten()\n",
    "        self.dense_1 = tf.keras.layers.Dense(120, activation=tf.nn.relu)\n",
    "        self.dense_2 = tf.keras.layers.Dense(10,)\n",
    "    \n",
    "    def call(self, inputs: tf.Tensor):\n",
    "        x = self.flatten(inputs)\n",
    "        x = self.dense_1(x)\n",
    "        x = self.dense_2(x)\n",
    "        output = tf.nn.softmax(x)\n",
    "        return output"
   ]
  },
  {
   "cell_type": "markdown",
   "metadata": {},
   "source": [
    "## 3. 模型的训练"
   ]
  },
  {
   "cell_type": "code",
   "execution_count": 3,
   "metadata": {},
   "outputs": [
    {
     "data": {
      "application/vnd.jupyter.widget-view+json": {
       "model_id": "c155c8fa9af240cfbada54d24f51110c",
       "version_major": 2,
       "version_minor": 0
      },
      "text/plain": [
       "HBox(children=(FloatProgress(value=0.0, max=1200.0), HTML(value='')))"
      ]
     },
     "metadata": {},
     "output_type": "display_data"
    },
    {
     "name": "stdout",
     "output_type": "stream",
     "text": [
      "\n"
     ]
    }
   ],
   "source": [
    "from tqdm.notebook import tqdm\n",
    "# 定义训练过程参数\n",
    "num_epochs = 1\n",
    "batch_size = 50\n",
    "learning_rate = 1e-3\n",
    "model = MLP()\n",
    "data_loader = MNISTLoader()\n",
    "optimizer = tf.keras.optimizers.Adam(learning_rate=learning_rate)\n",
    "\n",
    "num_batches = int(data_loader.num_train_data // batch_size * num_epochs)\n",
    "\n",
    "with tqdm(total=num_batches) as bar:\n",
    "    for batch_index in range(num_batches):\n",
    "        x, y = data_loader.get_batch(batch_size)\n",
    "        with tf.GradientTape() as tape:\n",
    "            y_hat = model(x)\n",
    "            loss = tf.keras.losses.sparse_categorical_crossentropy(y_true=y, y_pred=y_hat)\n",
    "            loss = tf.reduce_sum(loss)\n",
    "        bar.set_description(f\"loss: {loss}\")\n",
    "        bar.update()\n",
    "        gradients = tape.gradient(loss, model.variables)\n",
    "        optimizer.apply_gradients(grads_and_vars=zip(gradients, model.variables))"
   ]
  },
  {
   "cell_type": "markdown",
   "metadata": {},
   "source": [
    "## 4 模型的评估"
   ]
  },
  {
   "cell_type": "code",
   "execution_count": 7,
   "metadata": {},
   "outputs": [
    {
     "data": {
      "application/vnd.jupyter.widget-view+json": {
       "model_id": "f5b8a3a3aa3d4551b7a3feff8463e968",
       "version_major": 2,
       "version_minor": 0
      },
      "text/plain": [
       "HBox(children=(FloatProgress(value=0.0, max=200.0), HTML(value='')))"
      ]
     },
     "metadata": {},
     "output_type": "display_data"
    },
    {
     "name": "stdout",
     "output_type": "stream",
     "text": [
      "\n"
     ]
    }
   ],
   "source": [
    "sparse_categorical_accuracy = tf.keras.metrics.SparseCategoricalAccuracy()\n",
    "\n",
    "num_batches = int(data_loader.num_test_data // batch_size)\n",
    "\n",
    "with tqdm(total=num_batches) as bar:\n",
    "    for batch_index in range(num_batches):\n",
    "        x, y = data_loader.get_batch(batch_size, 'test')\n",
    "        y_pred = model.predict(x)\n",
    "        sparse_categorical_accuracy.update_state(y_true=y, y_pred=y_pred)\n",
    "        bar.set_description(f\"acc: {sparse_categorical_accuracy.result()}\")\n",
    "        bar.update()"
   ]
  },
  {
   "cell_type": "code",
   "execution_count": null,
   "metadata": {},
   "outputs": [],
   "source": []
  }
 ],
 "metadata": {
  "kernelspec": {
   "display_name": "Python 3",
   "language": "python",
   "name": "python3"
  },
  "language_info": {
   "codemirror_mode": {
    "name": "ipython",
    "version": 3
   },
   "file_extension": ".py",
   "mimetype": "text/x-python",
   "name": "python",
   "nbconvert_exporter": "python",
   "pygments_lexer": "ipython3",
   "version": "3.7.7"
  }
 },
 "nbformat": 4,
 "nbformat_minor": 4
}
