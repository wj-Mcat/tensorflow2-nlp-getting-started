{
 "cells": [
  {
   "cell_type": "markdown",
   "metadata": {},
   "source": [
    "# 模型与层\n",
    "\n",
    "在Keras中有两个非常重要的概念：模型和层。"
   ]
  },
  {
   "cell_type": "markdown",
   "metadata": {},
   "source": [
    "## 1. 例子：全连接模型"
   ]
  },
  {
   "cell_type": "code",
   "execution_count": 10,
   "metadata": {},
   "outputs": [
    {
     "data": {
      "application/vnd.jupyter.widget-view+json": {
       "model_id": "f7598f0c649841b0907f2d4b7978b95f",
       "version_major": 2,
       "version_minor": 0
      },
      "text/plain": [
       "HBox(children=(FloatProgress(value=0.0, max=1000.0), HTML(value='')))"
      ]
     },
     "metadata": {},
     "output_type": "display_data"
    },
    {
     "name": "stdout",
     "output_type": "stream",
     "text": [
      "\n"
     ]
    }
   ],
   "source": [
    "from tqdm.notebook import tqdm\n",
    "import tensorflow as tf\n",
    "\n",
    "x = tf.random.uniform(shape=(2, 3))\n",
    "y = tf.random.uniform(shape=(2, 1))\n",
    "\n",
    "class Linear(tf.keras.Model):\n",
    "    def __init__(self):\n",
    "        super().__init__()\n",
    "        self.dense = tf.keras.layers.Dense(\n",
    "            units=1,\n",
    "            activation=None,\n",
    "            kernel_initializer=tf.keras.initializers.GlorotNormal(),\n",
    "            bias_initializer=tf.keras.initializers.GlorotNormal()\n",
    "        )\n",
    "    def call(self, input: tf.Tensor):\n",
    "        \"\"\"forward the trainning data on the model\"\"\"\n",
    "        output = self.dense(input)\n",
    "        return output\n",
    "\n",
    "model = Linear()\n",
    "optimizer = tf.keras.optimizers.SGD(learning_rate=0.001)\n",
    "epochs = 1000\n",
    "\n",
    "# 需要学习的参数\n",
    "\n",
    "with tqdm(total=epochs) as bar:\n",
    "    for i in range(epochs):\n",
    "        with tf.GradientTape() as tape:\n",
    "            y_hat = model(x)\n",
    "            loss = tf.reduce_sum(tf.square(y_hat, y))\n",
    "        \n",
    "        bar.update()\n",
    "        bar.set_description(f'loss: {loss}')\n",
    "        # 这里不能将所有变量提取出来，不然会导致损失值无法得到更新。\n",
    "        # 因为tensorflow的模型拥有延迟构建的作用\n",
    "        gradients = tape.gradient(loss, model.variables)\n",
    "        optimizer.apply_gradients(grads_and_vars=zip(gradients, model.variables))"
   ]
  },
  {
   "cell_type": "code",
   "execution_count": null,
   "metadata": {},
   "outputs": [],
   "source": []
  }
 ],
 "metadata": {
  "kernelspec": {
   "display_name": "Python 3",
   "language": "python",
   "name": "python3"
  },
  "language_info": {
   "codemirror_mode": {
    "name": "ipython",
    "version": 3
   },
   "file_extension": ".py",
   "mimetype": "text/x-python",
   "name": "python",
   "nbconvert_exporter": "python",
   "pygments_lexer": "ipython3",
   "version": "3.7.7"
  }
 },
 "nbformat": 4,
 "nbformat_minor": 4
}
