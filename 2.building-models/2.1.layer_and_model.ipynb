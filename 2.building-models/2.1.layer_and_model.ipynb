{
 "cells": [
  {
   "cell_type": "markdown",
   "metadata": {},
   "source": [
    "# 模型与层\n",
    "\n",
    "在Keras中有两个非常重要的概念：模型和层。"
   ]
  },
  {
   "cell_type": "markdown",
   "source": [
    "## 1. 自定义层\n",
    "\n",
    "一个模型中通常包含多个\"层\"，当层数越多，通常意味着模型越\"深\"，故成为深度神经网络。\n",
    "\n",
    "首先来看看，keras的抽象层的定义：\n",
    "\n",
    "```python\n",
    "import tensorflow as tf\n",
    "tf.keras.layers.Layer(\n",
    "    trainable=True, name=None, dtype=None, dynamic=False, **kwargs\n",
    ")\n",
    "```\n",
    "\n",
    "参数说明：\n",
    "\n",
    "- trainable：默认为True，标识该层的参数是否可训练。\n",
    "- name：设置模型的名称，通常在需要获取制定层参数时需要使用。\n",
    "- dtype：设置该层默认参数类型。\n",
    "- dynamic：默认为False，可生成静态计算图。否则，将会开启eagerly模式，运行时生成计算图。\n",
    "\n",
    "在tensorflow2自定义层非常简单，只需要继承`tf.keras.`，重写`__init__`，`build`，`call` 三个方法即可。示例如下所示："
   ],
   "metadata": {
    "collapsed": false,
    "pycharm": {
     "name": "#%% md\n"
    }
   }
  },
  {
   "cell_type": "code",
   "source": [
    "import tensorflow as tf\n",
    "\n",
    "class CustomLinearLayer(tf.keras.layers.Layer):\n",
    "    def __init__(self, units: int):\n",
    "        super().__init__()\n",
    "        self.units = units\n",
    "\n",
    "    def build(self, input_shape: tf.Tensor):\n",
    "        \"\"\"build layer on the data flow through the model\"\"\"\n",
    "\n",
    "        self.w_weight = self.add_weight(\n",
    "            shape=(input_shape.shape[-1], self.units),\n",
    "            initializer=tf.keras.initializers.glorot_normal(),\n",
    "        )\n",
    "\n",
    "        self.b_weight = self.add_weight(\n",
    "            shape=(input_shape.shape[-1]),\n",
    "            initializer=tf.keras.initializers.glorot_normal()\n",
    "        )\n",
    "\n",
    "    def call(self, inputs: tf.Tensor):\n",
    "        \"\"\"forward the dataset\"\"\"\n",
    "        # w * input + b\n",
    "        output = tf.add(tf.matmul(self.w_weight, inputs), tf.expand_dims(self.b_weight, axis=-1))\n",
    "        return output"
   ],
   "metadata": {
    "collapsed": false,
    "pycharm": {
     "name": "#%%\n"
    }
   },
   "execution_count": 3,
   "outputs": [
    {
     "name": "stdout",
     "output_type": "stream",
     "text": [
      "(2, 3, 1)\n"
     ]
    }
   ]
  },
  {
   "cell_type": "markdown",
   "source": [
    "如果以前一直使用pytorch的同学可能对build这个机制很不习惯，因为很多shape都是可以在`__init__`中确定的，只需要我们配置好层与层之间的输入输出大小就可以完成每个层的初始化工作。\n",
    "可是keras并不这么想，每个层的输入大小可以是动态生成的，当数据首次流向该层时将会提供对应的真实数据，此时就可以对该层中的某些参数进行初始化，从而实现动态生成层参数的功能。\n",
    "\n",
    "在自定义层的过程中需要注意几点：\n",
    "- 自定义层是需要继承`tf.keras.layers.Layer`的，然后充血制定的函数即可。\n",
    "- build 函数是在真实数据第一次流经该层的时候才会执行的，且只会执行一次。作用在于能够动态的根据真实数据的大小创建层。如果大家从pytorch转过来的同学们可能不会习惯，可是如果熟悉功能后会发现是真的好用。\n",
    "- 在非init函数中添加需要学习的参数时，是需要使用`add_weight`方法来添加相关参数的，不然在最后通过`variables`来获取该层的参数时是无法获取到的。"
   ],
   "metadata": {
    "collapsed": false,
    "pycharm": {
     "name": "#%% md\n"
    }
   }
  },
  {
   "cell_type": "markdown",
   "source": [
    "## 2. 自定义模型"
   ],
   "metadata": {
    "collapsed": false,
    "pycharm": {
     "name": "#%% md\n"
    }
   }
  },
  {
   "cell_type": "code",
   "execution_count": 7,
   "outputs": [
    {
     "name": "stdout",
     "output_type": "stream",
     "text": [
      "MyModel init()\n",
      "customA init()\n",
      "customB init()\n",
      "MyModel build()\n",
      "MyModel call()\n",
      "customA build()\n",
      "customA call()\n",
      "customB build()\n",
      "customB call()\n",
      "(100, 10)\n"
     ]
    }
   ],
   "source": [
    "class CustomA(tf.keras.Model):\n",
    "\n",
    "    def __init__(self):\n",
    "        print(\"customA init()\")\n",
    "        super().__init__()\n",
    "        self.dense = tf.keras.layers.Dense(20)\n",
    "\n",
    "    def get_config(self):\n",
    "        return super().get_config()\n",
    "\n",
    "    def build(self, input_shape):\n",
    "        print(\"customA build()\")\n",
    "\n",
    "    def call(self, inputs, training=None, mask=None):\n",
    "        print(\"customA call()\")\n",
    "        return self.dense(inputs)\n",
    "\n",
    "\n",
    "class CustomB(tf.keras.Model):\n",
    "\n",
    "    def __init__(self):\n",
    "        print(\"customB init()\")\n",
    "        super().__init__()\n",
    "        self.dense = tf.keras.layers.Dense(10)\n",
    "\n",
    "    def get_config(self):\n",
    "        return super().get_config()\n",
    "\n",
    "    def build(self, input_shape):\n",
    "        print(\"customB build()\")\n",
    "\n",
    "    def call(self, inputs, training=None, mask=None):\n",
    "        print(\"customB call()\")\n",
    "        return self.dense(inputs)\n",
    "\n",
    "class MyModel(tf.keras.Model):\n",
    "    def __init__(self):\n",
    "        print(\"MyModel init()\")\n",
    "        super().__init__()\n",
    "        self.a = CustomA()\n",
    "        self.b = CustomB()\n",
    "\n",
    "    def build(self, input_shape):\n",
    "        print(\"MyModel build()\")\n",
    "\n",
    "    def get_config(self):\n",
    "        return super().get_config()\n",
    "\n",
    "    def call(self, inputs, training=None, mask=None):\n",
    "        print(\"MyModel call()\")\n",
    "        output = self.a(inputs)\n",
    "        output = self.b(output)\n",
    "        return output\n",
    "\n",
    "\n",
    "inputs = tf.random.uniform((100,45))\n",
    "model = MyModel()\n",
    "outputs = model(inputs)\n",
    "print(outputs.shape)"
   ],
   "metadata": {
    "collapsed": false,
    "pycharm": {
     "name": "#%%\n"
    }
   }
  },
  {
   "cell_type": "markdown",
   "metadata": {},
   "source": [
    "## 3. 例子：全连接模型"
   ]
  },
  {
   "cell_type": "code",
   "execution_count": 10,
   "metadata": {},
   "outputs": [
    {
     "data": {
      "application/vnd.jupyter.widget-view+json": {
       "model_id": "f7598f0c649841b0907f2d4b7978b95f",
       "version_major": 2,
       "version_minor": 0
      },
      "text/plain": [
       "HBox(children=(FloatProgress(value=0.0, max=1000.0), HTML(value='')))"
      ]
     },
     "metadata": {},
     "output_type": "display_data"
    },
    {
     "name": "stdout",
     "output_type": "stream",
     "text": [
      "\n"
     ]
    }
   ],
   "source": [
    "from tqdm.notebook import tqdm\n",
    "import tensorflow as tf\n",
    "\n",
    "x = tf.random.uniform(shape=(2, 3))\n",
    "y = tf.random.uniform(shape=(2, 1))\n",
    "\n",
    "class Linear(tf.keras.Model):\n",
    "    def __init__(self):\n",
    "        super().__init__()\n",
    "        self.dense = tf.keras.layers.Dense(\n",
    "            units=1,\n",
    "            activation=None,\n",
    "            kernel_initializer=tf.keras.initializers.GlorotNormal(),\n",
    "            bias_initializer=tf.keras.initializers.GlorotNormal()\n",
    "        )\n",
    "    def call(self, input: tf.Tensor):\n",
    "        \"\"\"forward the trainning data on the model\"\"\"\n",
    "        output = self.dense(input)\n",
    "        return output\n",
    "\n",
    "model = Linear()\n",
    "optimizer = tf.keras.optimizers.SGD(learning_rate=0.001)\n",
    "epochs = 1000\n",
    "\n",
    "# 需要学习的参数\n",
    "\n",
    "with tqdm(total=epochs) as bar:\n",
    "    for i in range(epochs):\n",
    "        with tf.GradientTape() as tape:\n",
    "            y_hat = model(x)\n",
    "            loss = tf.reduce_sum(tf.square(y_hat, y))\n",
    "        \n",
    "        bar.update()\n",
    "        bar.set_description(f'loss: {loss}')\n",
    "        # 这里不能将所有变量提取出来，不然会导致损失值无法得到更新。\n",
    "        # 因为tensorflow的模型拥有延迟构建的作用\n",
    "        gradients = tape.gradient(loss, model.variables)\n",
    "        optimizer.apply_gradients(grads_and_vars=zip(gradients, model.variables))"
   ]
  },
  {
   "cell_type": "code",
   "execution_count": null,
   "metadata": {},
   "outputs": [],
   "source": []
  }
 ],
 "metadata": {
  "kernelspec": {
   "display_name": "Python 3",
   "language": "python",
   "name": "python3"
  },
  "language_info": {
   "codemirror_mode": {
    "name": "ipython",
    "version": 3
   },
   "file_extension": ".py",
   "mimetype": "text/x-python",
   "name": "python",
   "nbconvert_exporter": "python",
   "pygments_lexer": "ipython3",
   "version": "3.7.7"
  }
 },
 "nbformat": 4,
 "nbformat_minor": 4
}