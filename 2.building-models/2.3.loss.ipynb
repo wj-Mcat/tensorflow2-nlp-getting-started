{
 "cells": [
  {
   "cell_type": "markdown",
   "metadata": {},
   "source": [
    "# 2.3 损失函数\n",
    "\n",
    "损失函数常用于以下任务当中：\n",
    "1. 用于文本分类的损失函数\n",
    "1. 用于序列标注"
   ]
  },
  {
   "cell_type": "markdown",
   "metadata": {},
   "source": [
    "## 2.3.1 用于分类的交叉熵损失函数\n",
    "\n",
    "在tensorflow中，损失函数分为`categorical_crossentropy` 和 `sparse_categorical_crossentropy`，都可用于文本分类和序列标注的任务当中。"
   ]
  },
  {
   "cell_type": "code",
   "execution_count": 1,
   "metadata": {},
   "outputs": [
    {
     "name": "stdout",
     "output_type": "stream",
     "text": [
      "tf.Tensor(0.11316872, shape=(), dtype=float32)\n"
     ]
    }
   ],
   "source": [
    "# 交叉熵\n",
    "import tensorflow as tf\n",
    "\n",
    "y_true = [[0, 1, 0], [0, 0, 1]]\n",
    "y_pred = [[0.05, 0.95, 0], [0.02, 0.04, 0.94]]\n",
    "loss = tf.keras.losses.categorical_crossentropy(y_true, y_pred)\n",
    "loss = tf.reduce_sum(loss)\n",
    "print(loss)"
   ]
  },
  {
   "cell_type": "code",
   "execution_count": 20,
   "metadata": {},
   "outputs": [
    {
     "name": "stdout",
     "output_type": "stream",
     "text": [
      "tf.Tensor(0.113168836, shape=(), dtype=float32)\n"
     ]
    }
   ],
   "source": [
    "y_true = [1, 2]\n",
    "y_pred = [[0.05, 0.95, 0], [0.02, 0.04, 0.94]]\n",
    "loss = tf.keras.losses.sparse_categorical_crossentropy(y_true, y_pred)\n",
    "loss = tf.reduce_sum(loss)\n",
    "print(loss)"
   ]
  },
  {
   "cell_type": "markdown",
   "source": [
    "2.3.2 序列标注和文本分类的损失函数\n",
    "\n",
    "在序列标注和文本分类的任务中，损失函数都使用的是交叉熵，虽然最终的输出的矩阵维度大小不一致，在tensorflow只需要使用一个损失函数即可。然后根据label的表示方式，分为`categorical_crossentropy`和`sparse_categorical_crossentropy`两个函数。"
   ],
   "metadata": {
    "collapsed": false,
    "pycharm": {
     "name": "#%% md\n"
    }
   }
  },
  {
   "cell_type": "code",
   "execution_count": 25,
   "metadata": {},
   "outputs": [],
   "source": [
    "# 用于序列标注\n",
    "batch_size, sequence_length, hidden_size, num_labels = 64, 128, 768, 6\n",
    "x = (batch_size, sequence_length, num_labels)\n",
    "y = (batch_size, sequence_length)\n",
    "\n",
    "# 用于文本分类\n",
    "x = (batch_size, num_labels)\n",
    "y = (batch_size)\n",
    "\n",
    "# 归根结底都是使用同一个交叉熵函数就ok了。"
   ]
  },
  {
   "cell_type": "markdown",
   "source": [
    "2.3.3 KL 散度损失函数\n",
    "\n",
    "KL散度用来计算两个分类的相似度，能够通整体上调整学习目标，在统计里面是非常重要的衡量指标。"
   ],
   "metadata": {
    "collapsed": false,
    "pycharm": {
     "name": "#%% md\n"
    }
   }
  },
  {
   "cell_type": "code",
   "execution_count": null,
   "outputs": [],
   "source": [],
   "metadata": {
    "collapsed": false,
    "pycharm": {
     "name": "#%%\n"
    }
   }
  }
 ],
 "metadata": {
  "kernelspec": {
   "display_name": "Python 3",
   "language": "python",
   "name": "python3"
  },
  "language_info": {
   "codemirror_mode": {
    "name": "ipython",
    "version": 3
   },
   "file_extension": ".py",
   "mimetype": "text/x-python",
   "name": "python",
   "nbconvert_exporter": "python",
   "pygments_lexer": "ipython3",
   "version": "3.7.7"
  }
 },
 "nbformat": 4,
 "nbformat_minor": 4
}