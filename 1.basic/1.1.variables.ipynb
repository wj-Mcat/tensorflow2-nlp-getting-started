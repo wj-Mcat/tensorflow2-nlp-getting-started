{
 "cells": [
  {
   "cell_type": "markdown",
   "metadata": {
    "pycharm": {
     "name": "#%% md\n"
    }
   },
   "source": [
    "# 基础概念\n",
    "\n",
    "本篇章主要讲解tensorflow基础概念，掌握如何构建一个最小可执行模型，包含数据类型、张量计算、自动求导、损失函数的使用以及优化器的原理，这些都是在训练模型中最基础的概念，也是大家以后需要书烂熟于心的常规操作。\n"
   ]
  },
  {
   "cell_type": "markdown",
   "metadata": {},
   "source": [
    "## 变量\n",
    "\n",
    "tensorflow 使用张量（tensor）作为数据的基本单位，可以用来描述标量（零维数组）、向量（一维数组）、矩阵（二维数组）以及高维数组等，示例代码如下："
   ]
  },
  {
   "cell_type": "code",
   "execution_count": 11,
   "metadata": {},
   "outputs": [],
   "source": [
    "import tensorflow as tf\n",
    "\n",
    "# 定义一个有2个元素的向量\n",
    "vector_tensor = tf.zeros(shape=(2))\n",
    "# 定义一个2*2 的常量矩阵\n",
    "constant_matrix = tf.constant([[1,2],[3,4]])"
   ]
  },
  {
   "cell_type": "markdown",
   "metadata": {},
   "source": [
    "## 与numpy数据的交互"
   ]
  },
  {
   "cell_type": "code",
   "execution_count": 16,
   "metadata": {},
   "outputs": [
    {
     "name": "stdout",
     "output_type": "stream",
     "text": [
      "tf.Tensor(\n",
      "[[2.490816  2.2087953 1.5717199]\n",
      " [1.9584408 2.08029   2.7729778]], shape=(2, 3), dtype=float32)\n"
     ]
    }
   ],
   "source": [
    "import numpy as np\n",
    "import tensorflow as tf\n",
    "\n",
    "# 目标公式：y = a * x + b\n",
    "# 定义numpy矩阵\n",
    "x = np.random.random((2,3))\n",
    "# 定义tensor\n",
    "a = tf.random.normal((2,3))\n",
    "# 定义python数据格式\n",
    "b = 2\n",
    "# 运行公式\n",
    "y = a * x + b\n",
    "# 打印输出\n",
    "print(y)"
   ]
  },
  {
   "cell_type": "code",
   "execution_count": null,
   "metadata": {},
   "outputs": [],
   "source": [
    "## 张量的运算\n",
    "a = tf.random.uniform(shape=(2,2))\n",
    "b = tf.random.uniform(shape=(2,2))\n",
    "\n",
    "# 计算矩阵a和b的和\n",
    "print(tf.add(a,b))\n",
    "print(tf.)\n",
    "# 计算矩阵a和b的点乘\n",
    "print(tf.matmul(a,b))\n",
    "print(tf.square(a))\n",
    "print(tf.reduce_sum(a))"
   ]
  }
 ],
 "metadata": {
  "kernelspec": {
   "display_name": "Python 3",
   "language": "python",
   "name": "python3"
  },
  "language_info": {
   "codemirror_mode": {
    "name": "ipython",
    "version": 3
   },
   "file_extension": ".py",
   "mimetype": "text/x-python",
   "name": "python",
   "nbconvert_exporter": "python",
   "pygments_lexer": "ipython3",
   "version": "3.8.5"
  }
 },
 "nbformat": 4,
 "nbformat_minor": 4
}